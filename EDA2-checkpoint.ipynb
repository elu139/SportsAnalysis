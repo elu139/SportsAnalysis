{
 "cells": [
  {
   "cell_type": "code",
   "execution_count": 13,
   "id": "694eadcf-0910-4b6d-a44b-165544f5defe",
   "metadata": {},
   "outputs": [],
   "source": [
    "import pandas as pd\n",
    "import numpy as np\n",
    "import seaborn as sns\n",
    "import math\n",
    "from pprint import pprint\n",
    "import csv\n",
    "import random\n",
    "import requests, re, json\n",
    "from bs4 import BeautifulSoup\n",
    "from datetime import datetime"
   ]
  },
  {
   "cell_type": "code",
   "execution_count": 22,
   "id": "07ddd446-5290-4f32-a7fa-9d3bf5cbb667",
   "metadata": {},
   "outputs": [],
   "source": [
    "def datareader(clubname, start_year):\n",
    "    #\n",
    "    data = pd.read_csv('transfers.csv')\n",
    "    dataPos = pd.read_csv('game_lineups.csv')\n",
    "    recentData = data[data['transfer_season'] == '18/19']\n",
    "    clubIn = recentData[recentData['to_club_name']== clubname]\n",
    "    clubID = clubIn['to_club_id'].iloc[0]\n",
    "    clubPos = dataPos[dataPos['club_id']== clubID]\n",
    "    mergedClub = pd.merge(clubPos, clubIn, on='player_id', how='inner')\n",
    "    #starting_year = str(start_year) + '-06-01';\n",
    "    #ending_year = str(start_year+1) + '-06-01';\n",
    "    starting_year = datetime.strptime(str(start_year) + '-06-01', '%Y-%m-%d').date()\n",
    "    ending_year = datetime.strptime(str(start_year+1) + '-06-01', '%Y-%m-%d').date()\n",
    "    #mergedClub = mergedClub[mergedClub['date'] >= starting_year]\n",
    "    #mergedClub = mergedClub[mergedClub['date'] <= ending_year]\n",
    "    mergedClub = mergedClub[datetime.strptime(mergedClub['date'], '%Y-%m-%d').date() >= starting_year]\n",
    "    mergedClub = mergedClub[datetime.strptime(mergedClub['date'], '%Y-%m-%d').date() <= ending_year]\n",
    "    mergedClub['type'] = np.where(mergedClub['type'] == 'starting_lineup', 1, 0)\n",
    "    pos = {}\n",
    "    for i in mergedClub.index:\n",
    "        if mergedClub['player_id'][i] in pos:\n",
    "            if mergedClub['position'][i] not in pos[mergedClub['player_id'][i]]:\n",
    "                pos[mergedClub['player_id'][i]].append(mergedClub['position'][i])\n",
    "        else:\n",
    "            pos[mergedClub['player_id'][i]] = [mergedClub['position'][i]]\n",
    "    newDF = mergedClub.groupby('player_id').agg(total = ('type','count'), starts =('type','sum'),\n",
    "        fee = ('transfer_fee', 'mean'), value = ('market_value_in_eur', 'mean'), playerId = ('player_id','mean'))\n",
    "    newDF['position'] = newDF['playerId'].map(pos)\n",
    "    newDF['start%'] = (newDF['starts']/newDF['total'])*100\n",
    "    return newDF"
   ]
  },
  {
   "cell_type": "code",
   "execution_count": 23,
   "id": "6422a070-5628-400d-bfa0-91e90ec0c9bc",
   "metadata": {},
   "outputs": [
    {
     "ename": "TypeError",
     "evalue": "strptime() argument 1 must be str, not Series",
     "output_type": "error",
     "traceback": [
      "\u001b[1;31m---------------------------------------------------------------------------\u001b[0m",
      "\u001b[1;31mTypeError\u001b[0m                                 Traceback (most recent call last)",
      "Cell \u001b[1;32mIn[23], line 1\u001b[0m\n\u001b[1;32m----> 1\u001b[0m dataf \u001b[38;5;241m=\u001b[39m \u001b[43mdatareader\u001b[49m\u001b[43m(\u001b[49m\u001b[38;5;124;43m'\u001b[39;49m\u001b[38;5;124;43mWolves\u001b[39;49m\u001b[38;5;124;43m'\u001b[39;49m\u001b[43m,\u001b[49m\u001b[43m \u001b[49m\u001b[38;5;241;43m2018\u001b[39;49m\u001b[43m)\u001b[49m\n\u001b[0;32m      2\u001b[0m \u001b[38;5;28mprint\u001b[39m(dataf)\n",
      "Cell \u001b[1;32mIn[22], line 16\u001b[0m, in \u001b[0;36mdatareader\u001b[1;34m(clubname, start_year)\u001b[0m\n\u001b[0;32m     13\u001b[0m ending_year \u001b[38;5;241m=\u001b[39m datetime\u001b[38;5;241m.\u001b[39mstrptime(\u001b[38;5;28mstr\u001b[39m(start_year\u001b[38;5;241m+\u001b[39m\u001b[38;5;241m1\u001b[39m) \u001b[38;5;241m+\u001b[39m \u001b[38;5;124m'\u001b[39m\u001b[38;5;124m-06-01\u001b[39m\u001b[38;5;124m'\u001b[39m, \u001b[38;5;124m'\u001b[39m\u001b[38;5;124m%\u001b[39m\u001b[38;5;124mY-\u001b[39m\u001b[38;5;124m%\u001b[39m\u001b[38;5;124mm-\u001b[39m\u001b[38;5;132;01m%d\u001b[39;00m\u001b[38;5;124m'\u001b[39m)\u001b[38;5;241m.\u001b[39mdate()\n\u001b[0;32m     14\u001b[0m \u001b[38;5;66;03m#mergedClub = mergedClub[mergedClub['date'] >= starting_year]\u001b[39;00m\n\u001b[0;32m     15\u001b[0m \u001b[38;5;66;03m#mergedClub = mergedClub[mergedClub['date'] <= ending_year]\u001b[39;00m\n\u001b[1;32m---> 16\u001b[0m mergedClub \u001b[38;5;241m=\u001b[39m mergedClub[\u001b[43mdatetime\u001b[49m\u001b[38;5;241;43m.\u001b[39;49m\u001b[43mstrptime\u001b[49m\u001b[43m(\u001b[49m\u001b[43mmergedClub\u001b[49m\u001b[43m[\u001b[49m\u001b[38;5;124;43m'\u001b[39;49m\u001b[38;5;124;43mdate\u001b[39;49m\u001b[38;5;124;43m'\u001b[39;49m\u001b[43m]\u001b[49m\u001b[43m,\u001b[49m\u001b[43m \u001b[49m\u001b[38;5;124;43m'\u001b[39;49m\u001b[38;5;124;43m%\u001b[39;49m\u001b[38;5;124;43mY-\u001b[39;49m\u001b[38;5;124;43m%\u001b[39;49m\u001b[38;5;124;43mm-\u001b[39;49m\u001b[38;5;132;43;01m%d\u001b[39;49;00m\u001b[38;5;124;43m'\u001b[39;49m\u001b[43m)\u001b[49m\u001b[38;5;241m.\u001b[39mdate() \u001b[38;5;241m>\u001b[39m\u001b[38;5;241m=\u001b[39m starting_year]\n\u001b[0;32m     17\u001b[0m mergedClub \u001b[38;5;241m=\u001b[39m mergedClub[datetime\u001b[38;5;241m.\u001b[39mstrptime(mergedClub[\u001b[38;5;124m'\u001b[39m\u001b[38;5;124mdate\u001b[39m\u001b[38;5;124m'\u001b[39m], \u001b[38;5;124m'\u001b[39m\u001b[38;5;124m%\u001b[39m\u001b[38;5;124mY-\u001b[39m\u001b[38;5;124m%\u001b[39m\u001b[38;5;124mm-\u001b[39m\u001b[38;5;132;01m%d\u001b[39;00m\u001b[38;5;124m'\u001b[39m)\u001b[38;5;241m.\u001b[39mdate() \u001b[38;5;241m<\u001b[39m\u001b[38;5;241m=\u001b[39m ending_year]\n\u001b[0;32m     18\u001b[0m mergedClub[\u001b[38;5;124m'\u001b[39m\u001b[38;5;124mtype\u001b[39m\u001b[38;5;124m'\u001b[39m] \u001b[38;5;241m=\u001b[39m np\u001b[38;5;241m.\u001b[39mwhere(mergedClub[\u001b[38;5;124m'\u001b[39m\u001b[38;5;124mtype\u001b[39m\u001b[38;5;124m'\u001b[39m] \u001b[38;5;241m==\u001b[39m \u001b[38;5;124m'\u001b[39m\u001b[38;5;124mstarting_lineup\u001b[39m\u001b[38;5;124m'\u001b[39m, \u001b[38;5;241m1\u001b[39m, \u001b[38;5;241m0\u001b[39m)\n",
      "\u001b[1;31mTypeError\u001b[0m: strptime() argument 1 must be str, not Series"
     ]
    }
   ],
   "source": [
    "dataf = datareader('Wolves', 2018)\n",
    "print(dataf)"
   ]
  },
  {
   "cell_type": "code",
   "execution_count": null,
   "id": "cb32d4b4-995c-462d-8014-319135b58eb5",
   "metadata": {},
   "outputs": [],
   "source": [
    "def tableposition(clubname):\n",
    "    table_data = pd.read_csv('games.csv')\n",
    "    "
   ]
  },
  {
   "cell_type": "code",
   "execution_count": 7,
   "id": "c2fa205c-0b35-4f0e-8154-d0a97458e60b",
   "metadata": {},
   "outputs": [
    {
     "name": "stdout",
     "output_type": "stream",
     "text": [
      "           total  starts         fee       value  playerId  \\\n",
      "player_id                                                    \n",
      "51152         38      37  24700000.0  15000000.0   51152.0   \n",
      "144303         2       0         0.0   5000000.0  144303.0   \n",
      "207302        35      29         0.0  12000000.0  207302.0   \n",
      "215118        34      30         0.0  14000000.0  215118.0   \n",
      "315131        16      10         0.0   7000000.0  315131.0   \n",
      "354361        26      16  24850000.0  18000000.0  354361.0   \n",
      "\n",
      "                                                    position     start%  \n",
      "player_id                                                                \n",
      "51152                                       [Centre-Forward]  97.368421  \n",
      "144303                           [Left Winger, Right Winger]   0.000000  \n",
      "207302                                          [Goalkeeper]  82.857143  \n",
      "215118     [Centre-Back, Right-Back, Defensive Midfield, ...  88.235294  \n",
      "315131                             [Right-Back, Centre-Back]  62.500000  \n",
      "354361                [Defensive Midfield, Central Midfield]  61.538462  \n"
     ]
    }
   ],
   "source": [
    "data = datareader('Fulham')\n",
    "print(data)"
   ]
  },
  {
   "cell_type": "code",
   "execution_count": null,
   "id": "5e94c6b2-57b7-4bd4-a350-b57507b27a0a",
   "metadata": {},
   "outputs": [],
   "source": []
  },
  {
   "cell_type": "code",
   "execution_count": 5,
   "id": "7bfde81e-f5f4-4588-82a5-1b297a642b52",
   "metadata": {},
   "outputs": [
    {
     "name": "stdout",
     "output_type": "stream",
     "text": [
      "           total  starts         fee      value  playerId  \\\n",
      "player_id                                                   \n",
      "55742         27      24         0.0  7000000.0   55742.0   \n",
      "126014        14       4   3450000.0  2000000.0  126014.0   \n",
      "186186        39      17  11350000.0  3000000.0  186186.0   \n",
      "\n",
      "                                                    position     start%  \n",
      "player_id                                                                \n",
      "55742      [Central Midfield, Left Midfield, Defensive Mi...  88.888889  \n",
      "126014     [Central Midfield, Right Midfield, Left-Back, ...  28.571429  \n",
      "186186     [Centre-Forward, Left Midfield, Central Midfie...  43.589744  \n"
     ]
    }
   ],
   "source": [
    "dataf = datareader('Cardiff', 603)\n",
    "print(dataf)"
   ]
  }
 ],
 "metadata": {
  "kernelspec": {
   "display_name": "Python 3 (ipykernel)",
   "language": "python",
   "name": "python3"
  },
  "language_info": {
   "codemirror_mode": {
    "name": "ipython",
    "version": 3
   },
   "file_extension": ".py",
   "mimetype": "text/x-python",
   "name": "python",
   "nbconvert_exporter": "python",
   "pygments_lexer": "ipython3",
   "version": "3.12.7"
  }
 },
 "nbformat": 4,
 "nbformat_minor": 5
}
