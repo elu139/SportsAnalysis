{
 "cells": [
  {
   "cell_type": "code",
   "execution_count": 1,
   "id": "f7d00753-dd7a-44d3-9f6a-f03666367027",
   "metadata": {},
   "outputs": [],
   "source": [
    "import pandas as pd\n",
    "import numpy as np\n",
    "import seaborn as sns\n",
    "import math\n",
    "from pprint import pprint\n",
    "import csv\n",
    "import random\n",
    "import requests, re, json\n",
    "from bs4 import BeautifulSoup"
   ]
  },
  {
   "cell_type": "code",
   "execution_count": 2,
   "id": "52832d38-2627-4d19-bab1-d0b489feb7a8",
   "metadata": {},
   "outputs": [],
   "source": [
    "def datareader(club_name, season):\n",
    "    # Read the CSV files\n",
    "    transfers_df = pd.read_csv('transfers.csv')\n",
    "    games_df = pd.read_csv('games.csv')\n",
    "    lineups_df = pd.read_csv('game_lineups.csv')\n",
    "    \n",
    "    # Filter transfers for the given club and season\n",
    "    club_transfers = transfers_df[(transfers_df['to_club_name'] == club_name) & (transfers_df['transfer_season'] == season)].copy()\n",
    "    \n",
    "    if club_transfers.empty:\n",
    "        print(f\"No transfers found for {club_name} in {season} season.\")\n",
    "        return pd.DataFrame()\n",
    "    \n",
    "    # Get the club_id\n",
    "    club_id = club_transfers['to_club_id'].iloc[0]\n",
    "    \n",
    "    # Filter games for the club, season, and specific competition and round\n",
    "    season_year = int(season.split('/')[0]) + 2000\n",
    "    club_games = games_df[(games_df['home_club_id'] == club_id) | (games_df['away_club_id'] == club_id)].copy()\n",
    "    club_games = club_games[(club_games['season'] == season_year) & (club_games['competition_id'] == 'GB1') & (club_games['round'] == '38. Matchday')]\n",
    "    \n",
    "    # Get the club's position\n",
    "    if not club_games.empty:\n",
    "        if club_games['home_club_id'].iloc[0] == club_id:\n",
    "            position = club_games['home_club_position'].iloc[0]\n",
    "        else:\n",
    "            position = club_games['away_club_position'].iloc[0]\n",
    "    else:\n",
    "        print(f\"No matching game found for {club_name} in {season} season.\")\n",
    "        position = np.nan\n",
    "    \n",
    "    # Calculate starting percentage\n",
    "    lineups_for_club = lineups_df[lineups_df['club_id'] == club_id].copy()\n",
    "    player_appearances = lineups_for_club.groupby('player_id').agg(total_appearances=('type', 'count'),starting_appearances=\n",
    "                                                                   ('type', lambda x: (x == 'starting_lineup').sum()))\n",
    "    player_appearances['starting_percentage'] = (player_appearances['starting_appearances'] / player_appearances['total_appearances'] * 100).round(2)\n",
    "    \n",
    "    # Create the final dataframe\n",
    "    result_df = club_transfers[['player_id', 'transfer_fee', 'market_value_in_eur']].copy()\n",
    "    result_df.loc[:, 'club_id'] = club_id\n",
    "    result_df.loc[:, 'club_position'] = position\n",
    "    \n",
    "    # Merge with starting percentages\n",
    "    result_df = result_df.merge(\n",
    "        player_appearances[['starting_percentage']], \n",
    "        left_on='player_id', \n",
    "        right_index=True, \n",
    "        how='left'\n",
    "    )\n",
    "    \n",
    "    # Fill NaN values with 0 for starting_percentage\n",
    "    result_df.loc[:, 'starting_percentage'] = result_df['starting_percentage'].fillna(0)\n",
    "    \n",
    "    return result_df"
   ]
  },
  {
   "cell_type": "code",
   "execution_count": 3,
   "id": "eee87e42-3955-4e7b-b826-d7fe0fc746c8",
   "metadata": {},
   "outputs": [
    {
     "name": "stdout",
     "output_type": "stream",
     "text": [
      "       player_id  transfer_fee  market_value_in_eur  club_id  club_position  \\\n",
      "41999     233124           0.0            1000000.0      543            7.0   \n",
      "42270     361254           0.0            3000000.0      543            7.0   \n",
      "42987     175446    21000000.0           12000000.0      543            7.0   \n",
      "43699     180843           0.0             500000.0      543            7.0   \n",
      "44724     168157           0.0           17000000.0      543            7.0   \n",
      "44746     525247     4750000.0                  NaN      543            7.0   \n",
      "44757     204103    20000000.0            8000000.0      543            7.0   \n",
      "45038     175446           0.0           12000000.0      543            7.0   \n",
      "45083      29364     5600000.0           10000000.0      543            7.0   \n",
      "45604      45026    18000000.0           16000000.0      543            7.0   \n",
      "45743     142310    12000000.0            5000000.0      543            7.0   \n",
      "45839     206040           0.0           15000000.0      543            7.0   \n",
      "46136     340950    14000000.0           12000000.0      543            7.0   \n",
      "46206     357158     2250000.0             500000.0      543            7.0   \n",
      "46782     504581           NaN                  NaN      543            7.0   \n",
      "\n",
      "       starting_percentage  \n",
      "41999                31.25  \n",
      "42270                50.00  \n",
      "42987                78.23  \n",
      "43699                 0.00  \n",
      "44724                72.09  \n",
      "44746                58.70  \n",
      "44757                52.97  \n",
      "45038                78.23  \n",
      "45083                84.11  \n",
      "45604                94.78  \n",
      "45743                82.44  \n",
      "45839                83.63  \n",
      "46136                77.91  \n",
      "46206                26.80  \n",
      "46782                11.11  \n"
     ]
    }
   ],
   "source": [
    "# Example usage\n",
    "club_name = \"Wolves\"\n",
    "season = \"18/19\"\n",
    "df = datareader(club_name, season)\n",
    "print(df)"
   ]
  },
  {
   "cell_type": "code",
   "execution_count": null,
   "id": "795f6644-448f-43ab-8d1f-f3c741f3407e",
   "metadata": {},
   "outputs": [],
   "source": []
  }
 ],
 "metadata": {
  "kernelspec": {
   "display_name": "Python 3 (ipykernel)",
   "language": "python",
   "name": "python3"
  },
  "language_info": {
   "codemirror_mode": {
    "name": "ipython",
    "version": 3
   },
   "file_extension": ".py",
   "mimetype": "text/x-python",
   "name": "python",
   "nbconvert_exporter": "python",
   "pygments_lexer": "ipython3",
   "version": "3.12.7"
  }
 },
 "nbformat": 4,
 "nbformat_minor": 5
}
