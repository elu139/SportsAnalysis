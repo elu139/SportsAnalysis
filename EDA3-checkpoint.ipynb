{
 "cells": [
  {
   "cell_type": "code",
   "execution_count": 1,
   "id": "6ccd7a79-b604-417f-9ecf-d7c5b0794fa8",
   "metadata": {},
   "outputs": [],
   "source": [
    "import pandas as pd\n",
    "import numpy as np\n",
    "import seaborn as sns\n",
    "import math\n",
    "from pprint import pprint\n",
    "import csv\n",
    "import random\n",
    "import requests, re, json\n",
    "from bs4 import BeautifulSoup"
   ]
  },
  {
   "cell_type": "code",
   "execution_count": 2,
   "id": "7c7d8271-c9ab-482c-b175-6c6d538432b6",
   "metadata": {},
   "outputs": [
    {
     "data": {
      "text/plain": [
       "\"\\n# Define function to generate the dataframe for EDA\\ndef create_transfer_eda_df(to_club_name, transfer_season):\\n    transfers_df = pd.read_csv('transfers.csv')\\n    games_df = pd.read_csv('games.csv')\\n    # Step 1: Filter transfers for the specified club and season\\n    filtered_transfers = transfers_df[(transfers_df['to_club_name'] == to_club_name) & (transfers_df['transfer_season'] == transfer_season)]\\n    \\n    # Step 2: Filter games for the specified season, competition 'GR1', and round '38. Matchday'\\n    filtered_games = games_df[(games_df['season'] == int(transfer_season[:2] + transfer_season[3:])) &\\n                              (games_df['competition_id'] == 'GR1') &\\n                              (games_df['round'] == '38. Matchday')]\\n    \\n    # Step 3: Select relevant columns from filtered_games\\n    filtered_games = filtered_games[['season', 'home_club_id', 'away_club_id', \\n                                     'home_club_position', 'away_club_position']]\\n    \\n    # Step 4: Merge on club_id, considering both home and away positions\\n    merged_df = pd.merge(filtered_transfers, filtered_games, left_on='to_club_name', right_on='home_club_id', how='left')\\n    merged_df = merged_df.rename(columns={'home_club_position': 'table_position'}).drop(columns=['home_club_id', 'away_club_id'])\\n    \\n    # Final selection of columns to display\\n    final_df = merged_df[['player_id', 'transfer_fee', 'market_value_in_eur', 'to_club_name', 'table_position']]\\n    return final_df\\n\""
      ]
     },
     "execution_count": 2,
     "metadata": {},
     "output_type": "execute_result"
    }
   ],
   "source": [
    "'''\n",
    "# Define function to generate the dataframe for EDA\n",
    "def create_transfer_eda_df(to_club_name, transfer_season):\n",
    "    transfers_df = pd.read_csv('transfers.csv')\n",
    "    games_df = pd.read_csv('games.csv')\n",
    "    # Step 1: Filter transfers for the specified club and season\n",
    "    filtered_transfers = transfers_df[(transfers_df['to_club_name'] == to_club_name) & (transfers_df['transfer_season'] == transfer_season)]\n",
    "    \n",
    "    # Step 2: Filter games for the specified season, competition 'GR1', and round '38. Matchday'\n",
    "    filtered_games = games_df[(games_df['season'] == int(transfer_season[:2] + transfer_season[3:])) &\n",
    "                              (games_df['competition_id'] == 'GR1') &\n",
    "                              (games_df['round'] == '38. Matchday')]\n",
    "    \n",
    "    # Step 3: Select relevant columns from filtered_games\n",
    "    filtered_games = filtered_games[['season', 'home_club_id', 'away_club_id', \n",
    "                                     'home_club_position', 'away_club_position']]\n",
    "    \n",
    "    # Step 4: Merge on club_id, considering both home and away positions\n",
    "    merged_df = pd.merge(filtered_transfers, filtered_games, left_on='to_club_name', right_on='home_club_id', how='left')\n",
    "    merged_df = merged_df.rename(columns={'home_club_position': 'table_position'}).drop(columns=['home_club_id', 'away_club_id'])\n",
    "    \n",
    "    # Final selection of columns to display\n",
    "    final_df = merged_df[['player_id', 'transfer_fee', 'market_value_in_eur', 'to_club_name', 'table_position']]\n",
    "    return final_df\n",
    "'''"
   ]
  },
  {
   "cell_type": "code",
   "execution_count": 3,
   "id": "9068810e-5758-4140-93b7-2afe00417770",
   "metadata": {},
   "outputs": [
    {
     "data": {
      "text/plain": [
       "'\\nto_club_id = 27  # Example club ID\\ntransfer_season = \"25/26\"  # Example season format\\n\\n# Generate the EDA dataframe\\ntransfer_eda_df = create_transfer_eda_df(to_club_id, transfer_season)\\ntransfer_eda_df\\n'"
      ]
     },
     "execution_count": 3,
     "metadata": {},
     "output_type": "execute_result"
    }
   ],
   "source": [
    "'''\n",
    "to_club_id = 27  # Example club ID\n",
    "transfer_season = \"25/26\"  # Example season format\n",
    "\n",
    "# Generate the EDA dataframe\n",
    "transfer_eda_df = create_transfer_eda_df(to_club_id, transfer_season)\n",
    "transfer_eda_df\n",
    "'''"
   ]
  },
  {
   "cell_type": "code",
   "execution_count": 26,
   "id": "bb5f4de0-d301-4015-8922-2642436ffa20",
   "metadata": {},
   "outputs": [],
   "source": [
    "def create_transfer_dataframe(club_name, season):\n",
    "    # Read the CSV files\n",
    "    transfers_df = pd.read_csv('transfers.csv')\n",
    "    games_df = pd.read_csv('games.csv')\n",
    "    \n",
    "    # Filter transfers for the given club and season\n",
    "    club_transfers = transfers_df[(transfers_df['to_club_name'] == club_name) & \n",
    "                                  (transfers_df['transfer_season'] == season)]\n",
    "    \n",
    "    if club_transfers.empty:\n",
    "        print(f\"No transfers found for {club_name} in season {season}\")\n",
    "        return pd.DataFrame()\n",
    "    \n",
    "    # Get the club_id\n",
    "    club_id = club_transfers['to_club_id'].iloc[0]\n",
    "    \n",
    "    # Filter games for the club, season, and specific competition and round\n",
    "    season_year = int(season.split('/')[0]) + 2000  # Convert season to year\n",
    "    club_games = games_df[(games_df['home_club_id'] == club_id) | \n",
    "                          (games_df['away_club_id'] == club_id)]\n",
    "    club_games = club_games[(club_games['season'] == season_year) & \n",
    "                            (club_games['competition_id'] == 'GB1') & \n",
    "                            (club_games['round'] == '38. Matchday')]\n",
    "    \n",
    "    # Get the club's position\n",
    "    if not club_games.empty:\n",
    "        if club_games['home_club_id'].iloc[0] == club_id:\n",
    "            position = club_games['home_club_position'].iloc[0]\n",
    "        else:\n",
    "            position = club_games['away_club_position'].iloc[0]\n",
    "    else:\n",
    "        print(f\"No Premier League fixtures found for {club_name} in season {season}\")\n",
    "        position = np.nan\n",
    "    \n",
    "    # Create the final dataframe\n",
    "    result_df = pd.DataFrame({\n",
    "        'player_id': club_transfers['player_id'],\n",
    "        'transfer_fee': club_transfers['transfer_fee'],\n",
    "        'market_value_in_eur': club_transfers['market_value_in_eur'],\n",
    "        'club_id': club_id,\n",
    "        'epl_position': position\n",
    "    })\n",
    "    \n",
    "    return result_df"
   ]
  },
  {
   "cell_type": "code",
   "execution_count": 27,
   "id": "a4320440-2fa2-4981-9142-939ec9605a32",
   "metadata": {},
   "outputs": [
    {
     "name": "stdout",
     "output_type": "stream",
     "text": [
      "       player_id  transfer_fee  market_value_in_eur  club_id  epl_position\n",
      "41999     233124           0.0            1000000.0      543           7.0\n",
      "42270     361254           0.0            3000000.0      543           7.0\n",
      "42987     175446    21000000.0           12000000.0      543           7.0\n",
      "43699     180843           0.0             500000.0      543           7.0\n",
      "44724     168157           0.0           17000000.0      543           7.0\n",
      "44746     525247     4750000.0                  NaN      543           7.0\n",
      "44757     204103    20000000.0            8000000.0      543           7.0\n",
      "45038     175446           0.0           12000000.0      543           7.0\n",
      "45083      29364     5600000.0           10000000.0      543           7.0\n",
      "45604      45026    18000000.0           16000000.0      543           7.0\n",
      "45743     142310    12000000.0            5000000.0      543           7.0\n",
      "45839     206040           0.0           15000000.0      543           7.0\n",
      "46136     340950    14000000.0           12000000.0      543           7.0\n",
      "46206     357158     2250000.0             500000.0      543           7.0\n",
      "46782     504581           NaN                  NaN      543           7.0\n"
     ]
    }
   ],
   "source": [
    "# Example usage\n",
    "club_name = \"Wolves\"\n",
    "season = \"18/19\"\n",
    "df = create_transfer_dataframe(club_name, season)\n",
    "print(df)"
   ]
  },
  {
   "cell_type": "code",
   "execution_count": null,
   "id": "968f63dd-b355-4140-9170-3cdbf074169b",
   "metadata": {},
   "outputs": [],
   "source": []
  }
 ],
 "metadata": {
  "kernelspec": {
   "display_name": "Python 3 (ipykernel)",
   "language": "python",
   "name": "python3"
  },
  "language_info": {
   "codemirror_mode": {
    "name": "ipython",
    "version": 3
   },
   "file_extension": ".py",
   "mimetype": "text/x-python",
   "name": "python",
   "nbconvert_exporter": "python",
   "pygments_lexer": "ipython3",
   "version": "3.12.7"
  }
 },
 "nbformat": 4,
 "nbformat_minor": 5
}
