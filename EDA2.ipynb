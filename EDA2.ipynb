{
 "cells": [
  {
   "cell_type": "code",
   "execution_count": 1,
   "id": "694eadcf-0910-4b6d-a44b-165544f5defe",
   "metadata": {},
   "outputs": [],
   "source": [
    "import pandas as pd\n",
    "import numpy as np\n",
    "import seaborn as sns\n",
    "import math\n",
    "from pprint import pprint\n",
    "import csv\n",
    "import random\n",
    "import requests, re, json\n",
    "from bs4 import BeautifulSoup\n",
    "from datetime import datetime"
   ]
  },
  {
   "cell_type": "code",
   "execution_count": 2,
   "id": "07ddd446-5290-4f32-a7fa-9d3bf5cbb667",
   "metadata": {},
   "outputs": [],
   "source": [
    "def datareader(clubname, season):\n",
    "    data = pd.read_csv('transfers.csv')\n",
    "    dataPos = pd.read_csv('game_lineups.csv')\n",
    "    # recentData = data[data['transfer_season'] == '18/19']\n",
    "    seasonIn = data[data['transfer_season'] == season]\n",
    "    #seasonID = seasonIn['to_club_id'].iloc[0]\n",
    "\n",
    "    clubIn = seasonIn[seasonIn['to_club_name'] == clubname]\n",
    "    clubID = clubIn['to_club_id'].iloc[0]\n",
    "    \n",
    "    clubPos = dataPos[dataPos['club_id'] == clubID]\n",
    "    mergedClub = pd.merge(clubIn, clubPos, on='player_id', how = 'inner')\n",
    "    \n",
    "    '''\n",
    "    #starting_year = str(start_year) + '-06-01';\n",
    "    #ending_year = str(start_year+1) + '-06-01';\n",
    "    starting_year = '2018-08-01';\n",
    "    ending_year = '2019-08-01';\n",
    "    #starting_year = datetime.strptime(str(start_year) + '-06-01', '%Y-%m-%d').date()\n",
    "    #ending_year = datetime.strptime(str(start_year+1) + '-06-01', '%Y-%m-%d').date()\n",
    "    #mergedClub = mergedClub[datetime.strptime(mergedClub['date'], '%Y-%m-%d').date() >= starting_year]\n",
    "    #mergedClub = mergedClub[datetime.strptime(mergedClub['date'], '%Y-%m-%d').date() <= ending_year]\n",
    "    '''\n",
    "    #mergedClub = mergedClub[mergedClub['date'] >= starting_year]\n",
    "    #mergedClub = mergedClub[mergedClub['date'] <= ending_year]\n",
    "    mergedClub['type'] = np.where(mergedClub['type'] == 'starting_lineup', 1, 0)\n",
    "    pos = {}\n",
    "    for i in mergedClub.index:\n",
    "        if mergedClub['player_id'][i] in pos:\n",
    "            if mergedClub['position'][i] not in pos[mergedClub['player_id'][i]]:\n",
    "                pos[mergedClub['player_id'][i]].append(mergedClub['position'][i])\n",
    "        else:\n",
    "            pos[mergedClub['player_id'][i]] = [mergedClub['position'][i]]\n",
    "    newDF = mergedClub.groupby('player_id').agg(total = ('type','count'), starts =('type','sum'),\n",
    "        fee = ('transfer_fee', 'mean'), value = ('market_value_in_eur', 'mean'), playerId = ('player_id','mean'))\n",
    "    newDF['position'] = newDF['playerId'].map(pos)\n",
    "    newDF['start%'] = (newDF['starts']/newDF['total']).round(4) * 100\n",
    "    return newDF"
   ]
  },
  {
   "cell_type": "code",
   "execution_count": 3,
   "id": "6422a070-5628-400d-bfa0-91e90ec0c9bc",
   "metadata": {},
   "outputs": [
    {
     "name": "stdout",
     "output_type": "stream",
     "text": [
      "           total  starts         fee       value  playerId  \\\n",
      "player_id                                                    \n",
      "204103       202     107         0.0  20000000.0  204103.0   \n",
      "249994        93      87   8000000.0   7500000.0  249994.0   \n",
      "265078        35       8         0.0   3500000.0  265078.0   \n",
      "292246        69      38         0.0  11000000.0  292246.0   \n",
      "357158        97      26         0.0   5000000.0  357158.0   \n",
      "412669        38      16         0.0  22000000.0  412669.0   \n",
      "415646        22       0         0.0   1600000.0  415646.0   \n",
      "429014       111      23         0.0  11000000.0  429014.0   \n",
      "444641        20       0         0.0         NaN  444641.0   \n",
      "504581        18       2         0.0   2500000.0  504581.0   \n",
      "532541        48       2         NaN         NaN  532541.0   \n",
      "578391       113      62  11100000.0  18000000.0  578391.0   \n",
      "606718        62      28         0.0   1000000.0  606718.0   \n",
      "695454        16       1   3500000.0   1000000.0  695454.0   \n",
      "716276        19       0   5200000.0   1700000.0  716276.0   \n",
      "\n",
      "                                                    position  start%  \n",
      "player_id                                                             \n",
      "204103     [Right Midfield, Right Winger, Centre-Forward,...   52.97  \n",
      "249994                                          [Goalkeeper]   93.55  \n",
      "265078                                      [Centre-Forward]   22.86  \n",
      "292246     [Left Winger, Attacking Midfield, Centre-Forwa...   55.07  \n",
      "357158                            [Left-Back, Left Midfield]   26.80  \n",
      "412669           [Right Winger, Left Winger, Centre-Forward]   42.11  \n",
      "415646                                    [Central Midfield]    0.00  \n",
      "429014     [Central Midfield, Attacking Midfield, Left Mi...   20.72  \n",
      "444641                                          [Goalkeeper]    0.00  \n",
      "504581                            [Left-Back, Left Midfield]   11.11  \n",
      "532541                                    [Central Midfield]    4.17  \n",
      "578391               [Left-Back, Left Midfield, Left Winger]   54.87  \n",
      "606718                              [Centre-Back, Left-Back]   45.16  \n",
      "695454           [Left Winger, Right Winger, Right Midfield]    6.25  \n",
      "716276                                         [Centre-Back]    0.00  \n"
     ]
    }
   ],
   "source": [
    "dataf = datareader('Wolves', '21/22')\n",
    "print(dataf)"
   ]
  },
  {
   "cell_type": "code",
   "execution_count": 4,
   "id": "cb32d4b4-995c-462d-8014-319135b58eb5",
   "metadata": {},
   "outputs": [],
   "source": [
    "def tableposition(clubname):\n",
    "    table_data = pd.read_csv('games.csv')\n",
    "    \n",
    "    \n",
    "    "
   ]
  },
  {
   "cell_type": "code",
   "execution_count": 5,
   "id": "c2fa205c-0b35-4f0e-8154-d0a97458e60b",
   "metadata": {},
   "outputs": [
    {
     "ename": "TypeError",
     "evalue": "datareader() missing 1 required positional argument: 'start_year'",
     "output_type": "error",
     "traceback": [
      "\u001b[1;31m---------------------------------------------------------------------------\u001b[0m",
      "\u001b[1;31mTypeError\u001b[0m                                 Traceback (most recent call last)",
      "Cell \u001b[1;32mIn[5], line 1\u001b[0m\n\u001b[1;32m----> 1\u001b[0m data \u001b[38;5;241m=\u001b[39m \u001b[43mdatareader\u001b[49m\u001b[43m(\u001b[49m\u001b[38;5;124;43m'\u001b[39;49m\u001b[38;5;124;43mFulham\u001b[39;49m\u001b[38;5;124;43m'\u001b[39;49m\u001b[43m)\u001b[49m\n\u001b[0;32m      2\u001b[0m \u001b[38;5;28mprint\u001b[39m(data)\n",
      "\u001b[1;31mTypeError\u001b[0m: datareader() missing 1 required positional argument: 'start_year'"
     ]
    }
   ],
   "source": [
    "data = datareader('Fulham')\n",
    "print(data)"
   ]
  },
  {
   "cell_type": "code",
   "execution_count": 6,
   "id": "7bfde81e-f5f4-4588-82a5-1b297a642b52",
   "metadata": {},
   "outputs": [
    {
     "name": "stdout",
     "output_type": "stream",
     "text": [
      "           total  starts         fee      value  playerId  \\\n",
      "player_id                                                   \n",
      "55742         27      24         0.0  7000000.0   55742.0   \n",
      "126014        14       4   3450000.0  2000000.0  126014.0   \n",
      "186186        39      17  11350000.0  3000000.0  186186.0   \n",
      "\n",
      "                                                    position     start%  \n",
      "player_id                                                                \n",
      "55742      [Central Midfield, Left Midfield, Defensive Mi...  88.888889  \n",
      "126014     [Central Midfield, Right Midfield, Left-Back, ...  28.571429  \n",
      "186186     [Centre-Forward, Left Midfield, Central Midfie...  43.589744  \n"
     ]
    }
   ],
   "source": [
    "dataf = datareader('Cardiff', 603)\n",
    "print(dataf)"
   ]
  },
  {
   "cell_type": "code",
   "execution_count": 9,
   "id": "5e94c6b2-57b7-4bd4-a350-b57507b27a0a",
   "metadata": {},
   "outputs": [
    {
     "data": {
      "text/html": [
       "<div>\n",
       "<style scoped>\n",
       "    .dataframe tbody tr th:only-of-type {\n",
       "        vertical-align: middle;\n",
       "    }\n",
       "\n",
       "    .dataframe tbody tr th {\n",
       "        vertical-align: top;\n",
       "    }\n",
       "\n",
       "    .dataframe thead th {\n",
       "        text-align: right;\n",
       "    }\n",
       "</style>\n",
       "<table border=\"1\" class=\"dataframe\">\n",
       "  <thead>\n",
       "    <tr style=\"text-align: right;\">\n",
       "      <th></th>\n",
       "      <th>total</th>\n",
       "      <th>starts</th>\n",
       "      <th>fee</th>\n",
       "      <th>value</th>\n",
       "      <th>playerId</th>\n",
       "      <th>start%</th>\n",
       "    </tr>\n",
       "  </thead>\n",
       "  <tbody>\n",
       "    <tr>\n",
       "      <th>total</th>\n",
       "      <td>1.000000</td>\n",
       "      <td>0.658025</td>\n",
       "      <td>0.661727</td>\n",
       "      <td>0.211604</td>\n",
       "      <td>0.440213</td>\n",
       "      <td>0.261499</td>\n",
       "    </tr>\n",
       "    <tr>\n",
       "      <th>starts</th>\n",
       "      <td>0.658025</td>\n",
       "      <td>1.000000</td>\n",
       "      <td>-0.129123</td>\n",
       "      <td>0.875186</td>\n",
       "      <td>-0.386440</td>\n",
       "      <td>0.898868</td>\n",
       "    </tr>\n",
       "    <tr>\n",
       "      <th>fee</th>\n",
       "      <td>0.661727</td>\n",
       "      <td>-0.129123</td>\n",
       "      <td>1.000000</td>\n",
       "      <td>-0.592744</td>\n",
       "      <td>0.964492</td>\n",
       "      <td>-0.550616</td>\n",
       "    </tr>\n",
       "    <tr>\n",
       "      <th>value</th>\n",
       "      <td>0.211604</td>\n",
       "      <td>0.875186</td>\n",
       "      <td>-0.592744</td>\n",
       "      <td>1.000000</td>\n",
       "      <td>-0.784411</td>\n",
       "      <td>0.998681</td>\n",
       "    </tr>\n",
       "    <tr>\n",
       "      <th>playerId</th>\n",
       "      <td>0.440213</td>\n",
       "      <td>-0.386440</td>\n",
       "      <td>0.964492</td>\n",
       "      <td>-0.784411</td>\n",
       "      <td>1.000000</td>\n",
       "      <td>-0.751535</td>\n",
       "    </tr>\n",
       "    <tr>\n",
       "      <th>start%</th>\n",
       "      <td>0.261499</td>\n",
       "      <td>0.898868</td>\n",
       "      <td>-0.550616</td>\n",
       "      <td>0.998681</td>\n",
       "      <td>-0.751535</td>\n",
       "      <td>1.000000</td>\n",
       "    </tr>\n",
       "  </tbody>\n",
       "</table>\n",
       "</div>"
      ],
      "text/plain": [
       "             total    starts       fee     value  playerId    start%\n",
       "total     1.000000  0.658025  0.661727  0.211604  0.440213  0.261499\n",
       "starts    0.658025  1.000000 -0.129123  0.875186 -0.386440  0.898868\n",
       "fee       0.661727 -0.129123  1.000000 -0.592744  0.964492 -0.550616\n",
       "value     0.211604  0.875186 -0.592744  1.000000 -0.784411  0.998681\n",
       "playerId  0.440213 -0.386440  0.964492 -0.784411  1.000000 -0.751535\n",
       "start%    0.261499  0.898868 -0.550616  0.998681 -0.751535  1.000000"
      ]
     },
     "execution_count": 9,
     "metadata": {},
     "output_type": "execute_result"
    }
   ],
   "source": [
    "dataf = datareader('Cardiff', 603)\n",
    "dataf.corr(numeric_only = True)"
   ]
  },
  {
   "cell_type": "code",
   "execution_count": null,
   "id": "6b32eeea-9ba6-4f30-b8da-2bb03f628fd1",
   "metadata": {},
   "outputs": [],
   "source": []
  }
 ],
 "metadata": {
  "kernelspec": {
   "display_name": "Python 3 (ipykernel)",
   "language": "python",
   "name": "python3"
  },
  "language_info": {
   "codemirror_mode": {
    "name": "ipython",
    "version": 3
   },
   "file_extension": ".py",
   "mimetype": "text/x-python",
   "name": "python",
   "nbconvert_exporter": "python",
   "pygments_lexer": "ipython3",
   "version": "3.12.7"
  }
 },
 "nbformat": 4,
 "nbformat_minor": 5
}
