{
 "cells": [
  {
   "cell_type": "code",
   "execution_count": 1,
   "id": "e62792fd-8858-4ffa-9cad-3c1498585d5b",
   "metadata": {
    "id": "e62792fd-8858-4ffa-9cad-3c1498585d5b"
   },
   "outputs": [],
   "source": [
    "import pandas as pd\n",
    "import numpy as np\n",
    "import seaborn as sns\n",
    "import math\n",
    "from pprint import pprint\n",
    "import csv\n",
    "import random\n",
    "import requests, re, json\n",
    "import matplotlib.pyplot as plt\n",
    "import streamlit as st\n",
    "from ipywidgets import VBox, HBox, Tab, HTML, Layout, widgets\n",
    "from IPython.display import display, clear_output"
   ]
  },
  {
   "cell_type": "code",
   "execution_count": 2,
   "id": "49259998-fa95-411c-8765-cca79bd84103",
   "metadata": {
    "id": "49259998-fa95-411c-8765-cca79bd84103"
   },
   "outputs": [],
   "source": [
    "# Note to self: add documentation.\n",
    "def datareader(club_name, season):\n",
    "\n",
    "    # Read in CSV files\n",
    "    # game_lineups.csv is too large to upload to GitHub ~ work around?\n",
    "    transfers_df = pd.read_csv('transfers.csv')\n",
    "    games_df = pd.read_csv('games.csv')\n",
    "    lineups_df = pd.read_csv('game_lineups.csv')\n",
    "\n",
    "    # Filter transfers for given club and season -- make a deep copy of df\n",
    "    club_transfers = transfers_df[(transfers_df['to_club_name'] == club_name) & (transfers_df['transfer_season'] == season)].copy()\n",
    "\n",
    "    if club_transfers.empty:\n",
    "        print(f\"No transfers found for {club_name} in {season} season.\")\n",
    "        return pd.DataFrame()\n",
    "\n",
    "    # Get club_id\n",
    "    club_id = club_transfers['to_club_id'].iloc[0]\n",
    "\n",
    "    # Get club's final table position after Matchday 38 in GB1\n",
    "    season_year = int(season.split('/')[0]) + 2000\n",
    "    club_games = games_df[(games_df['home_club_id'] == club_id) | (games_df['away_club_id'] == club_id)].copy()\n",
    "    club_games = club_games[(club_games['season'] == season_year) & (club_games['competition_id'] == 'GB1') & (club_games['round'] == '38. Matchday')]\n",
    "    if not club_games.empty:\n",
    "        if club_games['home_club_id'].iloc[0] == club_id:\n",
    "            position = club_games['home_club_position'].iloc[0]\n",
    "        else:\n",
    "            position = club_games['away_club_position'].iloc[0]\n",
    "    else:\n",
    "        print(f\"No matching data found for {club_name} in {season} season.\")\n",
    "        position = np.nan\n",
    "\n",
    "    # Calculate trasnfers' starting percentages\n",
    "    club_lineups = lineups_df[lineups_df['club_id'] == club_id].copy()\n",
    "    player_appearances = club_lineups.groupby('player_id').agg(total_appearances=('type', 'count'),starting_appearances=\n",
    "                                                                   ('type', lambda x: (x == 'starting_lineup').sum()))\n",
    "    player_appearances['starting_percentage'] = (player_appearances['starting_appearances'] / player_appearances['total_appearances'] * 100).round(2)\n",
    "\n",
    "    # Create final dataframe\n",
    "    result_df = club_transfers[['player_id', 'transfer_fee', 'market_value_in_eur']].copy()\n",
    "    result_df.loc[:, 'club_id'] = club_id\n",
    "    result_df.loc[:, 'club_position'] = position\n",
    "\n",
    "    # Now merge with starting percentages\n",
    "    result_df = result_df.merge(\n",
    "        player_appearances[['starting_percentage']],\n",
    "        left_on='player_id',\n",
    "        right_index=True,\n",
    "        how='left'\n",
    "    )\n",
    "    result_df.loc[:, 'starting_percentage'] = result_df['starting_percentage'].fillna(0) # Convert null values to zero\n",
    "\n",
    "    return result_df"
   ]
  },
  {
   "cell_type": "code",
   "execution_count": 3,
   "id": "1432c11e-a098-46d0-8bec-7ac42041bfac",
   "metadata": {
    "colab": {
     "base_uri": "https://localhost:8080/",
     "height": 339
    },
    "id": "1432c11e-a098-46d0-8bec-7ac42041bfac",
    "outputId": "cd7d0029-6e0b-433c-d993-cd57ae24004e"
   },
   "outputs": [
    {
     "name": "stdout",
     "output_type": "stream",
     "text": [
      "       player_id  transfer_fee  market_value_in_eur  club_id  club_position  \\\n",
      "41999     233124           0.0            1000000.0      543            7.0   \n",
      "42270     361254           0.0            3000000.0      543            7.0   \n",
      "42987     175446    21000000.0           12000000.0      543            7.0   \n",
      "43699     180843           0.0             500000.0      543            7.0   \n",
      "44724     168157           0.0           17000000.0      543            7.0   \n",
      "44746     525247     4750000.0                  NaN      543            7.0   \n",
      "44757     204103    20000000.0            8000000.0      543            7.0   \n",
      "45038     175446           0.0           12000000.0      543            7.0   \n",
      "45083      29364     5600000.0           10000000.0      543            7.0   \n",
      "45604      45026    18000000.0           16000000.0      543            7.0   \n",
      "45743     142310    12000000.0            5000000.0      543            7.0   \n",
      "45839     206040           0.0           15000000.0      543            7.0   \n",
      "46136     340950    14000000.0           12000000.0      543            7.0   \n",
      "46206     357158     2250000.0             500000.0      543            7.0   \n",
      "46782     504581           NaN                  NaN      543            7.0   \n",
      "\n",
      "       starting_percentage  \n",
      "41999                31.25  \n",
      "42270                50.00  \n",
      "42987                78.23  \n",
      "43699                 0.00  \n",
      "44724                72.09  \n",
      "44746                58.70  \n",
      "44757                52.97  \n",
      "45038                78.23  \n",
      "45083                84.11  \n",
      "45604                94.78  \n",
      "45743                82.44  \n",
      "45839                83.63  \n",
      "46136                77.91  \n",
      "46206                26.80  \n",
      "46782                11.11  \n"
     ]
    }
   ],
   "source": [
    "# Example usage\n",
    "club_name = \"Wolves\"\n",
    "season = \"18/19\"\n",
    "df = datareader(club_name, season)\n",
    "print(df)"
   ]
  },
  {
   "cell_type": "code",
   "execution_count": 4,
   "id": "c8dbb04b-f545-473d-b85b-01204b109732",
   "metadata": {
    "id": "c8dbb04b-f545-473d-b85b-01204b109732"
   },
   "outputs": [],
   "source": [
    "def transfer_spending_bargraph(club_names, seasons):\n",
    "    # Read in csv -- change later?\n",
    "    transfers_df = pd.read_csv('transfers.csv')\n",
    "\n",
    "    # Fig and bar dimensions\n",
    "    plt.figure(figsize=(12, 8))\n",
    "    bar_width = 0.15\n",
    "\n",
    "    # Set up positions for bars\n",
    "    x = np.arange(len(seasons))\n",
    "\n",
    "    for i, club in enumerate(club_names):\n",
    "        avg_spent_per_transfer = []\n",
    "\n",
    "        for season in seasons:\n",
    "            # Filter transfers for the given club and season\n",
    "            club_transfers = transfers_df[(transfers_df['to_club_name'] == club) &\n",
    "                                       (transfers_df['transfer_season'] == season)]\n",
    "\n",
    "            if not club_transfers.empty:\n",
    "                total_value = club_transfers['market_value_in_eur'].sum() + club_transfers['transfer_fee'].sum()\n",
    "                num_transfers = len(club_transfers)\n",
    "                avg_value = total_value / num_transfers\n",
    "                avg_spent_per_transfer.append(avg_value)\n",
    "            else:\n",
    "                avg_spent_per_transfer.append(0)\n",
    "\n",
    "        # Plot bars for this club\n",
    "        plt.bar(x + i * bar_width, avg_spent_per_transfer,\n",
    "                bar_width, label=club)\n",
    "\n",
    "        # Add value labels on top of bars -- maybe put final table positions here as well?\n",
    "        for idx, value in enumerate(avg_spent_per_transfer):\n",
    "            if value > 0:\n",
    "                plt.text(x[idx] + i * bar_width, value,\n",
    "                        f'{value/1000000:.1f}M',\n",
    "                        ha='center', va='bottom')\n",
    "\n",
    "    # Customize the plot\n",
    "    plt.xlabel('Season')\n",
    "    plt.ylabel('Average Spending per Transfer (in €)')\n",
    "    plt.title('Average Spending Per Transfer by Season')\n",
    "    plt.xticks(x + bar_width/2, seasons)\n",
    "    plt.legend()\n",
    "\n",
    "    plt.tight_layout()\n",
    "    plt.show()"
   ]
  },
  {
   "cell_type": "code",
   "execution_count": 5,
   "id": "f4247b1d-b8f5-47bb-a35a-2a695239b1b4",
   "metadata": {
    "id": "f4247b1d-b8f5-47bb-a35a-2a695239b1b4",
    "outputId": "d44259d0-1d04-423e-bdbe-fe861d12388d",
    "scrolled": true
   },
   "outputs": [
    {
     "data": {
      "image/png": "[encoded data removed]",
      "text/plain": [
       "<Figure size 1200x800 with 1 Axes>"
      ]
     },
     "metadata": {},
     "output_type": "display_data"
    }
   ],
   "source": [
    "# Example usage\n",
    "club_names = [\"Tottenham\", \"Arsenal\", \"Liverpool\"]\n",
    "seasons = [\"13/14\", \"14/15\", \"15/16\"]\n",
    "\n",
    "transfer_spending_bargraph(club_names, seasons)"
   ]
  },
  {
   "cell_type": "code",
   "execution_count": 6,
   "id": "37c0e29b-cc98-4a82-9cdb-275ec77a2403",
   "metadata": {
    "id": "37c0e29b-cc98-4a82-9cdb-275ec77a2403"
   },
   "outputs": [],
   "source": [
    "def create_position_table(club_names, seasons):\n",
    "    # Create dictionary to store positions\n",
    "    positions = {season: {} for season in seasons}\n",
    "\n",
    "    # Fill the dictionary with positions for each club and season\n",
    "    for club in club_names:\n",
    "        for season in seasons:\n",
    "            # Get data using abc() function\n",
    "            df = datareader(club, season)\n",
    "\n",
    "            if not df.empty:\n",
    "                # Get the club position from the data\n",
    "                position = df['club_position'].iloc[0]\n",
    "                positions[season][club] = position\n",
    "            else:\n",
    "                positions[season][club] = 'N/A'\n",
    "\n",
    "    # Convert dictionary to DataFrame\n",
    "    position_table = pd.DataFrame(positions)\n",
    "\n",
    "    # Format the table\n",
    "    position_table = position_table.fillna('N/A') # make table more visually appealing?\n",
    "\n",
    "    return position_table"
   ]
  },
  {
   "cell_type": "code",
   "execution_count": 7,
   "id": "b6f23f12-dd2d-4051-b676-f2f94e84e298",
   "metadata": {
    "colab": {
     "base_uri": "https://localhost:8080/",
     "height": 193
    },
    "id": "b6f23f12-dd2d-4051-b676-f2f94e84e298",
    "outputId": "790c9f05-1e86-4415-ad26-e2019c014664"
   },
   "outputs": [
    {
     "name": "stdout",
     "output_type": "stream",
     "text": [
      "No matching data found for Brighton in 16/17 season.\n",
      "         16/17  17/18  18/19\n",
      "Brighton   N/A   15.0   17.0\n",
      "Arsenal    5.0    6.0    5.0\n"
     ]
    }
   ],
   "source": [
    "# Example usage\n",
    "club_names = [\"Brighton\", \"Arsenal\"]\n",
    "seasons = [\"16/17\", \"17/18\", \"18/19\"]\n",
    "\n",
    "table = create_position_table(club_names, seasons)\n",
    "print(table)"
   ]
  },
  {
   "cell_type": "code",
   "execution_count": null,
   "id": "dc5a9ff7",
   "metadata": {},
   "outputs": [
    {
     "data": {
      "application/vnd.jupyter.widget-view+json": {
       "model_id": "57cb2e7429154dfdba1da2cf51176b22",
       "version_major": 2,
       "version_minor": 0
      },
      "text/plain": [
       "VBox(children=(HTML(value='\\n    <div style=\"\\n        text-align: center;\\n        background: linear-gradien…"
      ]
     },
     "metadata": {},
     "output_type": "display_data"
    }
   ],
   "source": [
    "# Create output widgets\n",
    "output_data = widgets.Output()  # Output widget for data display\n",
    "output_graph = widgets.Output()  # Output widget for graph display\n",
    "\n",
    "# Header\n",
    "header = HTML(\n",
    "    \"\"\"\n",
    "    <div style=\"\n",
    "        text-align: center;\n",
    "        background: linear-gradient(to right, #003366, #00509e);\n",
    "        color: white;\n",
    "        padding: 20px;\n",
    "        border-radius: 10px;\n",
    "        box-shadow: 0 4px 6px rgba(0, 0, 0, 0.1);\n",
    "    \">\n",
    "        <h1 style=\"margin: 0; font-size: 2.5em; font-family: Arial, sans-serif;\">\n",
    "            Football Transfer Analysis\n",
    "        </h1>\n",
    "        <p style=\"margin: 10px 0 0; font-size: 1.2em; font-family: 'Arial', sans-serif;\">\n",
    "            Dive deep into Premier League transfer data, visualized with powerful insights.\n",
    "        </p>\n",
    "    </div>\n",
    "    \"\"\",\n",
    "    layout=Layout(margin=\"10px\")\n",
    ")\n",
    "\n",
    "# Inputs\n",
    "club_name = widgets.Combobox(\n",
    "    placeholder=\"Type or select a club\",\n",
    "    options=[\n",
    "        'Tottenham', 'Arsenal', 'Liverpool', 'Wolves', 'Chelsea', 'Crystal Palace',\n",
    "        'Nottm Forest', 'Man Utd', 'Man City', 'Southampton', 'Leicester', 'Ipswich',\n",
    "        'Aston Villa', 'Brighton', 'Newcastle', 'Fulham', 'Brentford', 'Bournemouth',\n",
    "        'Everton', 'West Ham'\n",
    "    ],\n",
    "    description=\"Club:\",\n",
    "    ensure_option=True,  # Prevent invalid inputs\n",
    "    layout=Layout(width='300px')\n",
    ")\n",
    "season = widgets.Text(\n",
    "    value='18/19',\n",
    "    placeholder='Enter season (e.g., 18/19)',\n",
    "    description='Season:',\n",
    "    style={'description_width': 'initial'},\n",
    "    layout=Layout(width='200px')\n",
    ")\n",
    "analyze_button = widgets.Button(\n",
    "    description='Analyze Transfers',\n",
    "    button_style='success',\n",
    "    layout=Layout(width='200px', height='40px')\n",
    ")\n",
    "\n",
    "def analyze_transfers(b):\n",
    "    with output_data:\n",
    "        clear_output(wait=True)\n",
    "        print(f\"Analyzing transfers for {club_name.value} in season {season.value}...\")\n",
    "        try:\n",
    "            df = datareader(club_name.value, season.value)  # Your function\n",
    "            if not df.empty:\n",
    "                display(df)\n",
    "            else:\n",
    "                print(f\"No transfers found for {club_name.value} in {season.value} season.\")\n",
    "        except Exception as e:\n",
    "            print(f\"Error: {e}\")\n",
    "\n",
    "analyze_button.on_click(analyze_transfers)\n",
    "\n",
    "# Graph Inputs\n",
    "clubs = widgets.SelectMultiple(\n",
    "    options=['Tottenham', 'Arsenal', 'Liverpool', 'Wolves', 'Chelsea', 'Crystal Palace', 'Nottm Forest', 'Man Utd', 'Man City', 'Southampton', 'Leicester', 'Ipswich', 'Aston Villa', 'Brighton', 'Newcastle', 'Fulham', 'Brentford', 'Bournemouth', 'Everton', 'West Ham'],\n",
    "    value=['Tottenham', 'Arsenal', 'Liverpool', 'Wolves', 'Chelsea', 'Crystal Palace', 'Nottm Forest', 'Man Utd', 'Man City', 'Southampton', 'Leicester', 'Ipswich', 'Aston Villa', 'Brighton', 'Newcastle', 'Fulham', 'Brentford', 'Bournemouth', 'Everton', 'West Ham'],\n",
    "    description='Clubs:',\n",
    "    style={'description_width': 'initial'},\n",
    "    layout=Layout(width='300px', height='120px')\n",
    ")\n",
    "seasons = widgets.SelectMultiple(\n",
    "    options=['13/14', '14/15', '15/16', '16/17', '17/18'],\n",
    "    value=['13/14', '14/15', '15/16', '16/17', '17/18'],\n",
    "    description='Seasons:',\n",
    "    style={'description_width': 'initial'},\n",
    "    layout=Layout(width='300px', height='120px')\n",
    ")\n",
    "bargraph_button = widgets.Button(\n",
    "    description='Generate Bar Graph',\n",
    "    button_style='info',\n",
    "    layout=Layout(width='200px', height='40px')\n",
    ")\n",
    "\n",
    "def generate_bargraph(b):\n",
    "    with output_graph:\n",
    "        clear_output(wait=True)\n",
    "        print(f\"Generating bar graph for {list(clubs.value)} in seasons {list(seasons.value)}...\")\n",
    "        # Replace with your transfer_spending_bargraph function call\n",
    "        # Example placeholder logic:\n",
    "        try:\n",
    "            transfer_spending_bargraph(list(clubs.value), list(seasons.value))  # Your function\n",
    "        except Exception as e:\n",
    "            print(f\"Error: {e}\")\n",
    "\n",
    "bargraph_button.on_click(generate_bargraph)\n",
    "\n",
    "# Layout sections\n",
    "inputs_section = HBox([club_name, season], layout=Layout(justify_content='space-between', padding='10px'))\n",
    "ui_data = VBox([inputs_section, analyze_button, output_data], layout=Layout(background_color='#f9f9f9', padding='10px'))\n",
    "ui_graph = VBox([clubs, seasons, bargraph_button, output_graph], layout=Layout(background_color='#f9f9f9', padding='10px'))\n",
    "\n",
    "# Tabs\n",
    "tab = Tab(children=[ui_data, ui_graph])\n",
    "tab.set_title(0, \"Analyze Transfers\")\n",
    "tab.set_title(1, \"Transfer Bar Graph\")\n",
    "\n",
    "# Display\n",
    "display(VBox([header, tab]))\n",
    "\n"
   ]
  }
 ],
 "metadata": {
  "colab": {
   "provenance": []
  },
  "kernelspec": {
   "display_name": "Python 3",
   "language": "python",
   "name": "python3"
  },
  "language_info": {
   "codemirror_mode": {
    "name": "ipython",
    "version": 3
   },
   "file_extension": ".py",
   "mimetype": "text/x-python",
   "name": "python",
   "nbconvert_exporter": "python",
   "pygments_lexer": "ipython3",
   "version": "3.12.6"
  }
 },
 "nbformat": 4,
 "nbformat_minor": 5
}
